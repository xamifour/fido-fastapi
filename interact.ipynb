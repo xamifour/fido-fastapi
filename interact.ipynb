{
 "cells": [
  {
   "cell_type": "code",
   "execution_count": 1,
   "metadata": {},
   "outputs": [],
   "source": [
    "# import os\n",
    "# import sqlite3\n",
    "# import pandas as pd\n",
    "import requests"
   ]
  },
  {
   "cell_type": "code",
   "execution_count": 2,
   "metadata": {},
   "outputs": [
    {
     "name": "stdout",
     "output_type": "stream",
     "text": [
      "user_id=1 full_name='Kwame Amissah' transaction_date=datetime.datetime(2023, 8, 19, 21, 44, 15, 991555) transaction_amount=349.8 transaction_type='credit'\n"
     ]
    }
   ],
   "source": [
    "from datetime import datetime\n",
    "\n",
    "from main import Transaction\n",
    "\n",
    "\n",
    "check = Transaction(\n",
    "    user_id = 1,\n",
    "    full_name = \"Kwame Amissah\",\n",
    "    transaction_date = datetime.now(),\n",
    "    transaction_amount = 349.80,\n",
    "    transaction_type = \"credit\"\n",
    ")\n",
    "print(check)"
   ]
  },
  {
   "cell_type": "code",
   "execution_count": null,
   "metadata": {},
   "outputs": [],
   "source": [
    "# dir(chec)\n",
    "check.schema()"
   ]
  },
  {
   "cell_type": "code",
   "execution_count": 5,
   "metadata": {},
   "outputs": [
    {
     "name": "stdout",
     "output_type": "stream",
     "text": [
      "200\n",
      "{'mesage': 'Hello world'}\n"
     ]
    }
   ],
   "source": [
    "url = \"http://localhost:8001/hello/\"\n",
    "response = requests.get(url=url)\n",
    "print(response.status_code)\n",
    "print(response.json())"
   ]
  },
  {
   "cell_type": "code",
   "execution_count": null,
   "metadata": {},
   "outputs": [],
   "source": []
  }
 ],
 "metadata": {
  "kernelspec": {
   "display_name": "base",
   "language": "python",
   "name": "python3"
  },
  "language_info": {
   "codemirror_mode": {
    "name": "ipython",
    "version": 3
   },
   "file_extension": ".py",
   "mimetype": "text/x-python",
   "name": "python",
   "nbconvert_exporter": "python",
   "pygments_lexer": "ipython3",
   "version": "3.9.13"
  },
  "orig_nbformat": 4
 },
 "nbformat": 4,
 "nbformat_minor": 2
}
